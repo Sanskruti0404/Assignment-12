{
 "cells": [
  {
   "cell_type": "markdown",
   "id": "0e2c70de-5268-4e8b-acff-30795c08305f",
   "metadata": {},
   "source": [
    "## Assignmnet 12"
   ]
  },
  {
   "cell_type": "markdown",
   "id": "b91ae1e0-81f0-4623-9cb0-39850217c578",
   "metadata": {},
   "source": [
    "## Q1\n",
    "- Database is an structural collection of data which is used in many applications and to sotre big amount of data it allows to manage ,retreve and to manuplate the data. as we know commiting changes or accesing big amount of data is too tough so here database comes under the role , it make accesing ,updating , and deleting of data easy.\n",
    "\n",
    "Differentiate between SQL and NoSQL databases.\n",
    "\n",
    "SQL (Structured Query Language) and NoSQL (Not Only SQL) are two different types of database management systems that differ in their data models, query languages, and underlying architectures:\n",
    "\n",
    "SQL Databases:\n",
    "\n",
    "SQL databases are based on the relational data model, which organizes data into tables with predefined schema and relationships.\n",
    "They use SQL as the standard query language for defining and manipulating data.\n",
    "SQL databases ensure data integrity by enforcing constraints and supporting transactions.\n",
    "They provide a structured approach to data management and are suitable for applications with well-defined schemas and complex relationships.\n",
    "Examples of SQL databases include MySQL, PostgreSQL, Oracle, and Microsoft SQL Server.\n",
    "\n",
    "NoSQL Databases:\r\n",
    "\r\n",
    "NoSQL databases employ flexible data models that do not rely on fixed schemas.\r\n",
    "They offer a variety of data models, including key-value stores, document databases, columnar databases, and graph databases.\r\n",
    "NoSQL databases use various query languages specific to their data model, which may differ from traditional SQL.\r\n",
    "They are designed to handle large-scale distributed systems and provide high scalability and performance.\r\n",
    "NoSQL databases are often used for applications with rapidly changing or unstructured data, such as social networks, real-time analytics, and content management systems.\r\n",
    "Popular NoSQL databases include MongoDB, Cassandra, Redis, Couchbase, and Neo4j."
   ]
  },
  {
   "cell_type": "markdown",
   "id": "938b95d1-e3be-4acd-aa18-6f0714b8f38c",
   "metadata": {},
   "source": [
    "## Q2\n",
    "DDL stands for Data Definition Language. It is a set of SQL commands used to define and manage the structure of a database schema. DDL statements are responsible for creating, modifying, and deleting database objects such as tables, indexes, views, and constraints.\n",
    "\n",
    "Here's an explanation of the commonly used DDL statements:\n",
    "\n",
    "## CREATE: \n",
    "The CREATE statement is used to create new database objects, such as tables, views, indexes, or constraints. For example, to create a table named \"Employees\" with columns for \"ID,\" \"Name,\" and \"Salary,\" you would use the following SQL statement:\n",
    "CREATE TABLE Employees (\r\n",
    "    ID INT PRIMARY KEY,\r\n",
    "    Name VARCHAR(50),\r\n",
    "    Salary DECIMAL(10,2)\r",
    "## DROP:\n",
    "The DROP statement is used to delete existing database objects. It permanently removes the specified object and its associated data from the database. For example, to drop the previously created \"Employees\" table, you would use the following SQL statement:\r\n",
    "DROP TABLE Employees\n",
    "## ALTER: \n",
    "The ALTER statement is used to modify the structure of an existing database object, such as adding or removing columns or changing data types. For example, to add a new column named \"Age\" to the \"Employees\" table, you would use the ALTER TABLE statement:\r\n",
    "ALTER TABLE Employees\r\n",
    "ADD Age INT\n",
    "## ;\r\n",
    "TRUNCAT\n",
    "E: The TRUNCATE statement is used to remove all rows from a table while keeping its structure intact. It is faster than deleting rows one by one using the DELETE statement. For example, to remove all data from the \"Employees\" table, you would use the following SQL statement:\r\n",
    "TRUNCATE TABLE Employees;\r\n",
    "These DDL statements are essential for managing the structure of a database and performing operations such as creating tables, altering their structure, deleting objects, or removing data.;\n",
    ");\n"
   ]
  },
  {
   "cell_type": "markdown",
   "id": "d4b08ce0-5031-4bb9-8632-1e2736ff54d9",
   "metadata": {},
   "source": [
    "## Q3\n",
    "DML stands for Data Manipulation Language. It is a subset of SQL (Structured Query Language) used to manipulate and retrieve data within a database. DML statements are responsible for inserting, updating, and deleting data in database tables.\n",
    "\n",
    "Here's an explanation of the commonly used DML statements:\n",
    "\n",
    "INSERT: The INSERT statement is used to add new records or rows into a table. It allows you to specify the values for each column or provide the values from a subquery. For example, to insert a new employee record into the \"Employees\" table, you would use the following SQL statement:\n",
    "INSERT INTO Employees (ID, Name, Salary)\n",
    "VALUES (1, 'John Doe', 50000);\n",
    "This statement inserts a new row with an ID of 1, Name of 'John Doe', and Salary of 50000 into the \"Employees\" table.\n",
    "\n",
    "UPDATE: The UPDATE statement is used to modify existing records in a table. It allows you to change the values of one or more columns based on specified conditions. For example, to update the salary of an employee with ID 1 to 60000, you would use the following SQL statement:\n",
    "\n",
    "UPDATE Employees\n",
    "SET Salary = 60000\n",
    "WHERE ID = 1;\n",
    "This statement updates the \"Salary\" column to 60000 for the employee with ID 1 in the \"Employees\" table.\n",
    "\n",
    "DELETE: The DELETE statement is used to remove records from a table based on specified conditions. It allows you to selectively delete one or more rows. For example, to delete all employees with a salary less than 50000, you would use the following SQL statement:\r\n",
    "DELETE FROM Employees\r\n",
    "WHERE Salary < 50000;\r\n",
    "This statement deletes all rows from the \"Employees\" table where the \"Salary\" column is less than 50000.\r\n",
    "\r\n",
    "These DML statements are essential for manipulating and managing the data stored in database tables. They allow you to insert new data, update existing data, and delete unwanted data to keep your database up-to-date and relevant."
   ]
  },
  {
   "cell_type": "markdown",
   "id": "3ec600b0-769c-407b-8149-a3c7cab60f96",
   "metadata": {},
   "source": [
    "## Q4\n",
    "DQL stands for Data Query Language. It is a subset of SQL (Structured Query Language) used to retrieve data from a database. DQL focuses on querying and fetching data from database tables without modifying the data itself.\r\n",
    "\r\n",
    "The primary DQL statement is the SELECT statement, which is used to retrieve specific data from one or more tables based on specified conditions. It allows you to specify which columns to retrieve, apply filtering conditions, sort the results, and perform various other operations.\r\n",
    "\r\n",
    "Here's an explanation of the SELECT statement with an example:\r\n",
    "\r\n",
    "The basic syntax of the SELECT statement is as follows:\r\n",
    "\r\n",
    "SELECT column1, column2, ...\r\n",
    "FROM table_name\r\n",
    "WHERE condition;\r\n",
    "Let's consider a table called \"Employees\" with columns \"ID,\" \"Name,\" \"Salary,\" and \"Department.\" To retrieve the names and salaries of employees with a salary greater than 50000, you would use the following SQL statement:\r\n",
    "\r\n",
    "SELECT Name, Salary\r\n",
    "FROM Employees\r\n",
    "WHERE Salary > 50000;\r\n",
    "This statement selects the \"Name\" and \"Salary\" columns from the \"Employees\" table and applies the condition \"Salary > 50000\" to filter the results. Only the names and salaries of employees with a salary greater than 50000 will be retrieved.\r\n",
    "\r\n",
    "You can also use additional clauses with the SELECT s\n",
    "\n",
    "ORDER BY: to sort the results based on one or more columns. For example, adding \"ORDER BY Salary DESC\" would sort the results in descending order of the salary.\r\n",
    "\n",
    "LIMIT: to limit the number of rows returned. For example, adding \"LIMIT 10\" would retrieve only the first 10 rows.\n",
    "\r\n",
    "JOIN: to combine data from multiple tables based on common columns.tatement, such as:"
   ]
  },
  {
   "cell_type": "markdown",
   "id": "36831530-b657-4367-ad44-b4b9e80f61e3",
   "metadata": {},
   "source": [
    "## Q5\n",
    "Primary Key: A primary key is a column or a combination of columns that uniquely identifies each record or row in a database table. It ensures the uniqueness and integrity of the data within the table. Here are some key characteristics of a primary key:\n",
    "\n",
    "-Uniqueness: Each value in the primary key column(s) must be unique. No two records in the table can have the same primary key value.\n",
    "\n",
    "-Non-nullability: The primary key column(s) cannot contain null values. Every record must have a valid primary key value.\n",
    "\n",
    "-Immutability: The primary key value(s) should not change over time. It provides a stable identifier for each record.\n",
    "\n",
    "-Single value or combination: A primary key can consist of a single column or a combination of columns, known as a composite key, depending on the requirements of the table.\n",
    "\n",
    "-The primary key plays a crucial role in maintaining data integrity and establishing relationships with other tables through foreign keys.\n",
    "\n",
    "Foreign Key: A foreign key is a column or a set of columns in a table that establishes a link or relationship to the primary key of another table. It represents a referential constraint, ensuring the integrity and maintaining the relationships between tables. Here are some key characteristics of a foreign key:\n",
    "\n",
    "-Referential integrity: A foreign key maintains referential integrity by enforcing that the values in the foreign key column(s) correspond to existing primary key values in the referenced table.\r\n",
    "-\r\n",
    "Relationship establishment: By using foreign keys, you can establish relationships between tables, defining how data in one table relates to data in another table.-\r\n",
    "\r\n",
    "Cascading actions: Foreign keys can also define cascading actions, such as ON DELETE and ON UPDATE, which specify what happens to related records when a referenced record is deleted or updated. For example, you can specify that deleting a record with a foreign key should also delete all related records in other table-s.\r\n",
    "\r\n",
    "Multiple foreign keys: A table can have multiple foreign keys, allowing it to establish relationships with multiple tables.\r\n",
    "\r\n",
    "Foreign keys play a crucial role in maintaining data integrity, enforcing referential constraints, and establishing relationships between tables in a relational database system. They enable the creation of associations and enable efficient querying across related tables."
   ]
  },
  {
   "cell_type": "markdown",
   "id": "b8b570f2-a500-45e2-828d-ddc77d99e8f8",
   "metadata": {},
   "source": [
    "## Q6\n",
    "Certainly! To connect MySQL to Python, you can use the mysql-connector-python library, which provides a Python interface to MySQL. Here's an example code snippet that demonstrates how to connect to MySQL using Python:"
   ]
  },
  {
   "cell_type": "code",
   "execution_count": 1,
   "id": "de2b6015-8e3b-4fb1-8ba6-312e345d5b33",
   "metadata": {},
   "outputs": [
    {
     "ename": "ModuleNotFoundError",
     "evalue": "No module named 'mysql'",
     "output_type": "error",
     "traceback": [
      "\u001b[1;31m---------------------------------------------------------------------------\u001b[0m",
      "\u001b[1;31mModuleNotFoundError\u001b[0m                       Traceback (most recent call last)",
      "Cell \u001b[1;32mIn[1], line 1\u001b[0m\n\u001b[1;32m----> 1\u001b[0m \u001b[38;5;28;01mimport\u001b[39;00m \u001b[38;5;21;01mmysql\u001b[39;00m\u001b[38;5;21;01m.\u001b[39;00m\u001b[38;5;21;01mconnector\u001b[39;00m\n\u001b[0;32m      3\u001b[0m \u001b[38;5;66;03m# Establishing the connection\u001b[39;00m\n\u001b[0;32m      4\u001b[0m connection \u001b[38;5;241m=\u001b[39m mysql\u001b[38;5;241m.\u001b[39mconnector\u001b[38;5;241m.\u001b[39mconnect(\n\u001b[0;32m      5\u001b[0m   host\u001b[38;5;241m=\u001b[39m\u001b[38;5;124m\"\u001b[39m\u001b[38;5;124mlocalhost\u001b[39m\u001b[38;5;124m\"\u001b[39m,\n\u001b[0;32m      6\u001b[0m   user\u001b[38;5;241m=\u001b[39m\u001b[38;5;124m\"\u001b[39m\u001b[38;5;124myour_username\u001b[39m\u001b[38;5;124m\"\u001b[39m,\n\u001b[0;32m      7\u001b[0m   password\u001b[38;5;241m=\u001b[39m\u001b[38;5;124m\"\u001b[39m\u001b[38;5;124myour_password\u001b[39m\u001b[38;5;124m\"\u001b[39m,\n\u001b[0;32m      8\u001b[0m   database\u001b[38;5;241m=\u001b[39m\u001b[38;5;124m\"\u001b[39m\u001b[38;5;124myour_database\u001b[39m\u001b[38;5;124m\"\u001b[39m\n\u001b[0;32m      9\u001b[0m )\n",
      "\u001b[1;31mModuleNotFoundError\u001b[0m: No module named 'mysql'"
     ]
    }
   ],
   "source": [
    "import mysql.connector\n",
    "\n",
    "# Establishing the connection\n",
    "connection = mysql.connector.connect(\n",
    "  host=\"localhost\",\n",
    "  user=\"your_username\",\n",
    "  password=\"your_password\",\n",
    "  database=\"your_database\"\n",
    ")\n",
    "\n",
    "# Creating a cursor object\n",
    "cursor = connection.cursor()\n",
    "\n",
    "# Executing a SQL query\n",
    "cursor.execute(\"SELECT * FROM your_table\")\n",
    "\n",
    "# Fetching the results\n",
    "results = cursor.fetchall()\n",
    "\n",
    "# Printing the results\n",
    "for row in results:\n",
    "    print(row)\n",
    "\n",
    "# Closing the cursor and connection\n",
    "cursor.close()\n",
    "connection.close()"
   ]
  },
  {
   "cell_type": "markdown",
   "id": "874b1a31-0a47-49b7-995a-5de1f2d7d07d",
   "metadata": {},
   "source": [
    "First, you import the mysql.connector module to use the MySQL Connector/Python library.\n",
    "\n",
    "Then, you establish a connection to your MySQL database by providing the host, user, password, and database details. Replace \"your_username,\" \"your_password,\" and \"your_database\" with your actual credentials.\n",
    "\n",
    "After establishing the connection, you create a cursor object using the cursor() method. The cursor object allows you to execute SQL queries and fetch results.\n",
    "\n",
    "You can execute SQL queries using the execute() method of the cursor object. In the example, a SELECT query is executed to fetch all records from a table named \"your_table\".\n",
    "\n",
    "The fetchall() method retrieves all the rows returned by the query and stores them in the results variable.\n",
    "\n",
    "Finally, you can iterate over the results and print each row.\n",
    "\n",
    "Lastly, remember to close the cursor and connection using the close() method to release the resources properly.\n",
    "\n",
    "The cursor() method creates a cursor object that enables you to execute SQL queries and fetch the results. It acts as a pointer or handle to the result set of a query. The cursor object provides various methods, such as execute(), fetchone(), fetchall(), etc., to interact with the database.\n",
    "\n",
    "The execute() method is used to execute SQL statements or queries. It takes an SQL query as a parameter and sends it to the MySQL server for execution. In the example, the execute() method is used to execute the SELECT query.\n",
    "## note: Make sure you have the mysql-connector-python library installed. You can install it using pip: pip install mysql-connector-python."
   ]
  },
  {
   "cell_type": "code",
   "execution_count": null,
   "id": "22dedf26-590d-4378-a92e-6e38bc82a7a5",
   "metadata": {},
   "outputs": [],
   "source": []
  }
 ],
 "metadata": {
  "kernelspec": {
   "display_name": "Python 3 (ipykernel)",
   "language": "python",
   "name": "python3"
  },
  "language_info": {
   "codemirror_mode": {
    "name": "ipython",
    "version": 3
   },
   "file_extension": ".py",
   "mimetype": "text/x-python",
   "name": "python",
   "nbconvert_exporter": "python",
   "pygments_lexer": "ipython3",
   "version": "3.11.7"
  }
 },
 "nbformat": 4,
 "nbformat_minor": 5
}
